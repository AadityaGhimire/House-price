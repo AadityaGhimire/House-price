{
 "cells": [
  {
   "cell_type": "code",
   "execution_count": 2,
   "id": "aaac51e0",
   "metadata": {},
   "outputs": [
    {
     "name": "stdout",
     "output_type": "stream",
     "text": [
      "hello guys\n"
     ]
    }
   ],
   "source": [
    "def call_phone():\n",
    "    print('hello guys')\n",
    "\n",
    "call_phone()\n",
    "    "
   ]
  },
  {
   "cell_type": "code",
   "execution_count": 3,
   "id": "e4868453",
   "metadata": {},
   "outputs": [
    {
     "data": {
      "text/plain": [
       "3"
      ]
     },
     "execution_count": 3,
     "metadata": {},
     "output_type": "execute_result"
    }
   ],
   "source": [
    "def incrementor(x):\n",
    "    return x+1\n",
    "incrementor(2)"
   ]
  },
  {
   "cell_type": "code",
   "execution_count": 4,
   "id": "6d8a5605",
   "metadata": {},
   "outputs": [
    {
     "data": {
      "text/plain": [
       "3"
      ]
     },
     "execution_count": 4,
     "metadata": {},
     "output_type": "execute_result"
    }
   ],
   "source": [
    "inc = lambda x:x+1\n",
    "\n",
    "inc(2)"
   ]
  },
  {
   "cell_type": "code",
   "execution_count": 6,
   "id": "c7d0810b",
   "metadata": {},
   "outputs": [
    {
     "name": "stdout",
     "output_type": "stream",
     "text": [
      "4 wheel are rotating\n"
     ]
    }
   ],
   "source": [
    "class vehicle:\n",
    "    def __init__(self, color, wheel):\n",
    "        self.color = color\n",
    "        self.wheel = wheel\n",
    "    \n",
    "    def running(self):\n",
    "        wheel = self.wheel\n",
    "        print(wheel,'wheel are rotating')\n",
    "        \n",
    "v=vehicle('red',4)\n",
    "\n",
    "v.running()\n",
    "        "
   ]
  },
  {
   "cell_type": "code",
   "execution_count": 9,
   "id": "9757e2f6",
   "metadata": {},
   "outputs": [
    {
     "name": "stdout",
     "output_type": "stream",
     "text": [
      "5 wheel are rotating\n",
      "I am car. I am  black in color\n"
     ]
    }
   ],
   "source": [
    "class car(vehicle):\n",
    "    def __init__(self, color, wheel,size):\n",
    "        self.color = color\n",
    "        self.wheel = wheel\n",
    "        self.size = size\n",
    "        \n",
    "    def banner(self):\n",
    "        color = self.color\n",
    "        size = self.size\n",
    "        \n",
    "        print('I am car. I am ', color, 'in color')\n",
    "\n",
    "c=car('black',5,'small')\n",
    "c.running()\n",
    "c.banner()"
   ]
  },
  {
   "cell_type": "code",
   "execution_count": 8,
   "id": "ea06c727",
   "metadata": {},
   "outputs": [],
   "source": [
    "f=open('Test.txt','r')"
   ]
  },
  {
   "cell_type": "code",
   "execution_count": 9,
   "id": "196dd56e",
   "metadata": {},
   "outputs": [],
   "source": [
    "data = f.read()"
   ]
  },
  {
   "cell_type": "code",
   "execution_count": 5,
   "id": "e4c250f3",
   "metadata": {},
   "outputs": [
    {
     "name": "stdout",
     "output_type": "stream",
     "text": [
      "Hey guys welcome to ag vlogs\n"
     ]
    }
   ],
   "source": [
    "print(data)"
   ]
  },
  {
   "cell_type": "code",
   "execution_count": 10,
   "id": "de786fd8",
   "metadata": {},
   "outputs": [],
   "source": [
    "f.close()"
   ]
  },
  {
   "cell_type": "code",
   "execution_count": 12,
   "id": "dc509891",
   "metadata": {},
   "outputs": [],
   "source": [
    "f = open('Test.txt','a')\n"
   ]
  },
  {
   "cell_type": "code",
   "execution_count": 13,
   "id": "c09721e6",
   "metadata": {},
   "outputs": [
    {
     "data": {
      "text/plain": [
       "23"
      ]
     },
     "execution_count": 13,
     "metadata": {},
     "output_type": "execute_result"
    }
   ],
   "source": [
    "f.write('Subscribe to my channel')"
   ]
  },
  {
   "cell_type": "code",
   "execution_count": 14,
   "id": "06ce8397",
   "metadata": {},
   "outputs": [],
   "source": [
    "f.close()\n"
   ]
  },
  {
   "cell_type": "code",
   "execution_count": 15,
   "id": "ce60bd45",
   "metadata": {},
   "outputs": [
    {
     "name": "stdout",
     "output_type": "stream",
     "text": [
      "Hey guys welcome to ag vlogsSubscribe to my channel\n"
     ]
    }
   ],
   "source": [
    "with open ('Test.txt','r') as G:\n",
    "    data = G.read()\n",
    "    print(data)"
   ]
  },
  {
   "cell_type": "code",
   "execution_count": null,
   "id": "48fda7c4",
   "metadata": {},
   "outputs": [],
   "source": []
  }
 ],
 "metadata": {
  "kernelspec": {
   "display_name": "Python 3 (ipykernel)",
   "language": "python",
   "name": "python3"
  },
  "language_info": {
   "codemirror_mode": {
    "name": "ipython",
    "version": 3
   },
   "file_extension": ".py",
   "mimetype": "text/x-python",
   "name": "python",
   "nbconvert_exporter": "python",
   "pygments_lexer": "ipython3",
   "version": "3.10.4"
  }
 },
 "nbformat": 4,
 "nbformat_minor": 5
}
